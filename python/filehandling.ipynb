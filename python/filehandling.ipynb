{
 "cells": [
  {
   "cell_type": "code",
   "execution_count": 1,
   "metadata": {},
   "outputs": [],
   "source": [
    "f=open('simple.txt','w')\n",
    "f.write('chandan duniya walo tum hi dekh lo na')\n",
    "f.close()"
   ]
  },
  {
   "cell_type": "code",
   "execution_count": 2,
   "metadata": {},
   "outputs": [
    {
     "name": "stdout",
     "output_type": "stream",
     "text": [
      "chandan duniya walo tum hi dekh lo na\n"
     ]
    }
   ],
   "source": [
    "f=open('simple.txt','r')\n",
    "print(f.read())\n",
    "f.close()"
   ]
  },
  {
   "cell_type": "code",
   "execution_count": 3,
   "metadata": {},
   "outputs": [],
   "source": [
    "big_f=['hello world' for i in range(10000)]\n",
    "with open('big.txt','w') as f:\n",
    "    f.writelines(big_f)"
   ]
  },
  {
   "cell_type": "code",
   "execution_count": 4,
   "metadata": {},
   "outputs": [
    {
     "name": "stdout",
     "output_type": "stream",
     "text": [
      "dhello wor**rldhello w**worldhello**o worldhel**llo worldh**hello worl**ldhello wo**orldhello ** worldhell**lo worldhe**ello world**dhello wor**rldhello w**worldhello**o worldhel**llo worldh**hello worl**ldhello wo**orldhello ** worldhell**lo worldhe**ello world**dhello wor**rldhello w**worldhello**o worldhel**llo worldh**hello worl**ldhello wo**orldhello ** worldhell**lo worldhe**ello world**dhello wor**rldhello w**worldhello**o worldhel**llo worldh**hello worl**ldhello wo**orldhello ** worldhell**lo worldhe**ello world**dhello wor**rldhello w**worldhello**o worldhel**llo worldh**hello worl**ldhello wo**orldhello ** worldhell**lo worldhe**ello world**dhello wor**rldhello w**worldhello**o worldhel**llo worldh**hello worl**ldhello wo**orldhello ** worldhell**lo worldhe**ello world**dhello wor**rldhello w**worldhello**o worldhel**llo worldh**hello worl**ldhello wo**orldhello ** worldhell**lo worldhe**ello world**dhello wor**rldhello w**worldhello**o worldhel**llo worldh**hello worl**ldhello wo**orldhello ** worldhell**lo worldhe**ello world**dhello wor**rldhello w**worldhello**o worldhel**llo worldh**hello worl**ldhello wo**orldhello ** worldhell**lo worldhe**ello world**dhello wor**rldhello w**worldhello**o worldhel**llo worldh**hello worl**ldhello wo**orldhello ** worldhell**lo worldhe**ello world**dhello wor**rldhello w**worldhello**o worldhel**llo worldh**hello worl**ldhello wo**orldhello ** worldhell**lo worldhe**ello world**dhello wor**rldhello w**worldhello**o worldhel**llo worldh**hello worl**ldhello wo**orldhello ** worldhell**lo worldhe**ello world**dhello wor**rldhello w**worldhello**o worldhel**llo worldh**hello worl**ldhello wo**orldhello ** worldhell**lo worldhe**ello world**dhello wor**rldhello w**worldhello**o worldhel**llo worldh**hello worl**ldhello wo**orldhello ** worldhell**lo worldhe**ello world**dhello wor**rldhello w**worldhello**o worldhel**llo worldh**hello worl**ldhello wo**orldhello ** worldhell**lo worldhe**ello world**dhello wor**rldhello w**worldhello**o worldhel**llo worldh**hello worl**ldhello wo**orldhello ** worldhell**lo worldhe**ello world**dhello wor**rldhello w**worldhello**o worldhel**llo worldh**hello worl**ldhello wo**orldhello ** worldhell**lo worldhe**ello world**dhello wor**rldhello w**worldhello**o worldhel**llo worldh**hello worl**ldhello wo**orldhello ** worldhell**lo worldhe**ello world**dhello wor**rldhello w**worldhello**o worldhel**llo worldh**hello worl**ldhello wo**orldhello ** worldhell**lo worldhe**ello world**dhello wor**rldhello w**worldhello**o worldhel**llo worldh**hello worl**ldhello wo**orldhello ** worldhell**lo worldhe**ello world**dhello wor**rldhello w**worldhello**o worldhel**llo worldh**hello worl**ldhello wo**orldhello ** worldhell**lo worldhe**ello world**dhello wor**rldhello w**worldhello**o worldhel**llo worldh**hello worl**ldhello wo**orldhello ** worldhell**lo worldhe**ello world**dhello wor**rldhello w**worldhello**o worldhel**llo worldh**hello worl**ldhello wo**orldhello ** worldhell**lo worldhe**ello world**dhello wor**rldhello w**worldhello**o worldhel**llo worldh**hello worl**ldhello wo**orldhello ** worldhell**lo worldhe**ello world**dhello wor**rldhello w**worldhello**o worldhel**llo worldh**hello worl**ldhello wo**orldhello ** worldhell**lo worldhe**ello world**dhello wor**rldhello w**worldhello**o worldhel**llo worldh**hello worl**ldhello wo**orldhello ** worldhell**lo worldhe**ello world**dhello wor**rldhello w**worldhello**o worldhel**llo worldh**hello worl**ldhello wo**orldhello ** worldhell**lo worldhe**ello world**dhello wor**rldhello w**worldhello**o worldhel**llo worldh**hello worl**ldhello wo**orldhello ** worldhell**lo worldhe**ello world**dhello wor**rldhello w**worldhello**o worldhel**llo worldh**hello worl**ldhello wo**orldhello ** worldhell**lo worldhe**ello world**dhello wor**rldhello w**worldhello**o worldhel**llo worldh**hello worl**ldhello wo**orldhello ** worldhell**lo worldhe**ello world**dhello wor**rldhello w**worldhello**o worldhel**llo worldh**hello worl**ldhello wo**orldhello ** worldhell**lo worldhe**ello world**dhello wor**rldhello w**worldhello**o worldhel**llo worldh**hello worl**ldhello wo**orldhello ** worldhell**lo worldhe**ello world**dhello wor**rldhello w**worldhello**o worldhel**llo worldh**hello worl**ldhello wo**orldhello ** worldhell**lo worldhe**ello world**dhello wor**rldhello w**worldhello**o worldhel**llo worldh**hello worl**ldhello wo**orldhello ** worldhell**lo worldhe**ello world**dhello wor**rldhello w**worldhello**o worldhel**llo worldh**hello worl**ldhello wo**orldhello ** worldhell**lo worldhe**ello world**dhello wor**rldhello w**worldhello**o worldhel**llo worldh**hello worl**ldhello wo**orldhello ** worldhell**lo worldhe**ello world**dhello wor**rldhello w**worldhello**o worldhel**llo worldh**hello worl**ldhello wo**orldhello ** worldhell**lo worldhe**ello world**dhello wor**rldhello w**worldhello**o worldhel**llo worldh**hello worl**ldhello wo**orldhello ** worldhell**lo worldhe**ello world**dhello wor**rldhello w**worldhello**o worldhel**llo worldh**hello worl**ldhello wo**orldhello ** worldhell**lo worldhe**ello world**dhello wor**rldhello w**worldhello**o worldhel**llo worldh**hello worl**ldhello wo**orldhello ** worldhell**lo worldhe**ello world**dhello wor**rldhello w**worldhello**o worldhel**llo worldh**hello worl**ldhello wo**orldhello ** worldhell**lo worldhe**ello world**dhello wor**rldhello w**worldhello**o worldhel**llo worldh**hello worl**ldhello wo**orldhello ** worldhell**lo worldhe**ello world**dhello wor**rldhello w**worldhello**o worldhel**llo worldh**hello worl**ldhello wo**orldhello ** worldhell**lo worldhe**ello world**dhello wor**rldhello w**worldhello**o worldhel**llo worldh**hello worl**ldhello wo**orldhello ** worldhell**lo worldhe**ello world**dhello wor**rldhello w**worldhello**o worldhel**llo worldh**hello worl**ldhello wo**orldhello ** worldhell**lo worldhe**ello world**dhello wor**rldhello w**worldhello**o worldhel**llo worldh**hello worl**ldhello wo**orldhello ** worldhell**lo worldhe**ello world**dhello wor**rldhello w**worldhello**o worldhel**llo worldh**hello worl**ldhello wo**orldhello ** worldhell**lo worldhe**ello world**dhello wor**rldhello w**worldhello**o worldhel**llo worldh**hello worl**ldhello wo**orldhello ** worldhell**lo worldhe**ello world**dhello wor**rldhello w**worldhello**o worldhel**llo worldh**hello worl**ldhello wo**orldhello ** worldhell**lo worldhe**ello world**dhello wor**rldhello w**worldhello**o worldhel**llo worldh**hello worl**ldhello wo**orldhello ** worldhell**lo worldhe**ello world**dhello wor**rldhello w**worldhello**o worldhel**llo worldh**hello worl**ldhello wo**orldhello ** worldhell**lo worldhe**ello world**dhello wor**rldhello w**worldhello**o worldhel**llo worldh**hello worl**ldhello wo**orldhello ** worldhell**lo worldhe**ello world**dhello wor**rldhello w**worldhello**o worldhel**llo worldh**hello worl**ldhello wo**orldhello ** worldhell**lo worldhe**ello world**dhello wor**rldhello w**worldhello**o worldhel**llo worldh**hello worl**ldhello wo**orldhello ** worldhell**lo worldhe**ello world**dhello wor**rldhello w**worldhello**o worldhel**llo worldh**hello worl**ldhello wo**orldhello ** worldhell**lo worldhe**ello world**dhello wor**rldhello w**worldhello**o worldhel**llo worldh**hello worl**ldhello wo**orldhello ** worldhell**lo worldhe**ello world**dhello wor**rldhello w**worldhello**o worldhel**llo worldh**hello worl**ldhello wo**orldhello ** worldhell**lo worldhe**ello world**dhello wor**rldhello w**worldhello**o worldhel**llo worldh**hello worl**ldhello wo**orldhello ** worldhell**lo worldhe**ello world**dhello wor**rldhello w**worldhello**o worldhel**llo worldh**hello worl**ldhello wo**orldhello ** worldhell**lo worldhe**ello world**dhello wor**rldhello w**worldhello**o worldhel**llo worldh**hello worl**ldhello wo**orldhello ** worldhell**lo worldhe**ello world**dhello wor**rldhello w**worldhello**o worldhel**llo worldh**hello worl**ldhello wo**orldhello ** worldhell**lo worldhe**ello world**dhello wor**rldhello w**worldhello**o worldhel**llo worldh**hello worl**ldhello wo**orldhello ** worldhell**lo worldhe**ello world**dhello wor**rldhello w**worldhello**o worldhel**llo worldh**hello worl**ldhello wo**orldhello ** worldhell**lo worldhe**ello world**dhello wor**rldhello w**worldhello**o worldhel**llo worldh**hello worl**ldhello wo**orldhello ** worldhell**lo worldhe**ello world**dhello wor**rldhello w**worldhello**o worldhel**llo worldh**hello worl**ldhello wo**orldhello ** worldhell**lo worldhe**ello world**dhello wor**rldhello w**worldhello**o worldhel**llo worldh**hello worl**ldhello wo**orldhello ** worldhell**lo worldhe**ello world**dhello wor**rldhello w**worldhello**o worldhel**llo worldh**hello worl**ldhello wo**orldhello ** worldhell**lo worldhe**ello world**dhello wor**rldhello w**worldhello**o worldhel**llo worldh**hello worl**ldhello wo**orldhello ** worldhell**lo worldhe**ello world**dhello wor**rldhello w**worldhello**o worldhel**llo worldh**hello worl**ldhello wo**orldhello ** worldhell**lo worldhe**ello world**dhello wor**rldhello w**worldhello**o worldhel**llo worldh**hello worl**ldhello wo**orldhello ** worldhell**lo worldhe**ello world**dhello wor**rldhello w**worldhello**o worldhel**llo worldh**hello worl**ldhello wo**orldhello ** worldhell**lo worldhe**ello world**dhello wor**rldhello w**worldhello**o worldhel**llo worldh**hello worl**ldhello wo**orldhello ** worldhell**lo worldhe**ello world**dhello wor**rldhello w**worldhello**o worldhel**llo worldh**hello worl**ldhello wo**orldhello ** worldhell**lo worldhe**ello world**dhello wor**rldhello w**worldhello**o worldhel**llo worldh**hello worl**ldhello wo**orldhello ** worldhell**lo worldhe**ello world**dhello wor**rldhello w**worldhello**o worldhel**llo worldh**hello worl**ldhello wo**orldhello ** worldhell**lo worldhe**ello world**dhello wor**rldhello w**worldhello**o worldhel**llo worldh**hello worl**ldhello wo**orldhello ** worldhell**lo worldhe**ello world**dhello wor**rldhello w**worldhello**o worldhel**llo worldh**hello worl**ldhello wo**orldhello ** worldhell**lo worldhe**ello world**dhello wor**rldhello w**worldhello**o worldhel**llo worldh**hello worl**ldhello wo**orldhello ** worldhell**lo worldhe**ello world**dhello wor**rldhello w**worldhello**o worldhel**llo worldh**hello worl**ldhello wo**orldhello ** worldhell**lo worldhe**ello world**dhello wor**rldhello w**worldhello**o worldhel**llo worldh**hello worl**ldhello wo**orldhello ** worldhell**lo worldhe**ello world**dhello wor**rldhello w**worldhello**o worldhel**llo worldh**hello worl**ldhello wo**orldhello ** worldhell**lo worldhe**ello world**dhello wor**rldhello w**worldhello**o worldhel**llo worldh**hello worl**ldhello wo**orldhello ** worldhell**lo worldhe**ello world**dhello wor**rldhello w**worldhello**o worldhel**llo worldh**hello worl**ldhello wo**orldhello ** worldhell**lo worldhe**ello world**dhello wor**rldhello w**worldhello**o worldhel**llo worldh**hello worl**ldhello wo**orldhello ** worldhell**lo worldhe**ello world**dhello wor**rldhello w**worldhello**o worldhel**llo worldh**hello worl**ldhello wo**orldhello ** worldhell**lo worldhe**ello world**dhello wor**rldhello w**worldhello**o worldhel**llo worldh**hello worl**ldhello wo**orldhello ** worldhell**lo worldhe**ello world**dhello wor**rldhello w**worldhello**o worldhel**llo worldh**hello worl**ldhello wo**orldhello ** worldhell**lo worldhe**ello world**dhello wor**rldhello w**worldhello**o worldhel**llo worldh**hello worl**ldhello wo**orldhello ** worldhell**lo worldhe**ello world**dhello wor**rldhello w**worldhello**o worldhel**llo worldh**hello worl**ldhello wo**orldhello ** worldhell**lo worldhe**ello world**dhello wor**rldhello w**worldhello**o worldhel**llo worldh**hello worl**ldhello wo**orldhello ** worldhell**lo worldhe**ello world**dhello wor**rldhello w**worldhello**o worldhel**llo worldh**hello worl**ldhello wo**orldhello ** worldhell**lo worldhe**ello world**dhello wor**rldhello w**worldhello**o worldhel**llo worldh**hello worl**ldhello wo**orldhello ** worldhell**lo worldhe**ello world**dhello wor**rldhello w**worldhello**o worldhel**llo worldh**hello worl**ldhello wo**orldhello ** worldhell**lo worldhe**ello world**dhello wor**rldhello w**worldhello**o worldhel**llo worldh**hello worl**ldhello wo**orldhello ** worldhell**lo worldhe**ello world**dhello wor**rldhello w**worldhello**o worldhel**llo worldh**hello worl**ldhello wo**orldhello ** worldhell**lo worldhe**ello world**dhello wor**rldhello w**worldhello**o worldhel**llo worldh**hello worl**ldhello wo**orldhello ** worldhell**lo worldhe**ello world**dhello wor**rldhello w**worldhello**o worldhel**llo worldh**hello worl**ldhello wo**orldhello ** worldhell**lo worldhe**ello world**dhello wor**rldhello w**worldhello**o worldhel**llo worldh**hello worl**ldhello wo**orldhello ** worldhell**lo worldhe**ello world**dhello wor**rldhello w**worldhello**o worldhel**llo worldh**hello worl**ldhello wo**orldhello ** worldhell**lo worldhe**ello world**dhello wor**rldhello w**worldhello**o worldhel**llo worldh**hello worl**ldhello wo**orldhello ** worldhell**lo worldhe**ello world**dhello wor**rldhello w**worldhello**o worldhel**llo worldh**hello worl**ldhello wo**orldhello ** worldhell**lo worldhe**ello world**dhello wor**rldhello w**worldhello**o worldhel**llo worldh**hello worl**ldhello wo**orldhello ** worldhell**lo worldhe**ello world**dhello wor**rldhello w**worldhello**o worldhel**llo worldh**hello worl**ldhello wo**orldhello ** worldhell**lo worldhe**ello world**dhello wor**rldhello w**worldhello**o worldhel**llo worldh**hello worl**ldhello wo**orldhello ** worldhell**lo worldhe**ello world**dhello wor**rldhello w**worldhello**o worldhel**llo worldh**hello worl**ldhello wo**orldhello ** worldhell**lo worldhe**ello world**dhello wor**rldhello w**worldhello**o worldhel**llo worldh**hello worl**ldhello wo**orldhello ** worldhell**lo worldhe**ello world**dhello wor**rldhello w**worldhello**o worldhel**llo worldh**hello worl**ldhello wo**orldhello ** worldhell**lo worldhe**ello world**dhello wor**rldhello w**worldhello**o worldhel**llo worldh**hello worl**ldhello wo**orldhello ** worldhell**lo worldhe**ello world**dhello wor**rldhello w**worldhello**o worldhel**llo worldh**hello worl**ldhello wo**orldhello ** worldhell**lo worldhe**ello world**dhello wor**rldhello w**worldhello**o worldhel**llo worldh**hello worl**ldhello wo**orldhello ** worldhell**lo worldhe**ello world**dhello wor**rldhello w**worldhello**o worldhel**llo worldh**hello worl**ldhello wo**orldhello ** worldhell**lo worldhe**ello world**dhello wor**rldhello w**worldhello**o worldhel**llo worldh**hello worl**ldhello wo**orldhello ** worldhell**lo worldhe**ello world**dhello wor**rldhello w**worldhello**o worldhel**llo worldh**hello worl**ldhello wo**orldhello ** worldhell**lo worldhe**ello world**dhello wor**rldhello w**worldhello**o worldhel**llo worldh**hello worl**ldhello wo**orldhello ** worldhell**lo worldhe**ello world**dhello wor**rldhello w**worldhello**o worldhel**llo worldh**hello worl**ldhello wo**orldhello ** worldhell**lo worldhe**ello world**dhello wor**rldhello w**worldhello**o worldhel**llo worldh**hello worl**ldhello wo**orldhello ** worldhell**lo worldhe**ello world**dhello wor**rldhello w**worldhello**o worldhel**llo worldh**hello worl**ldhello wo**orldhello ** worldhell**lo worldhe**ello world**dhello wor**rldhello w**worldhello**o worldhel**llo worldh**hello worl**ldhello wo**orldhello ** worldhell**lo worldhe**ello world**dhello wor**rldhello w**worldhello**o worldhel**llo worldh**hello worl**ldhello wo**orldhello ** worldhell**lo worldhe**ello world**dhello wor**rldhello w**worldhello**o worldhel**llo worldh**hello worl**ldhello wo**orldhello ** worldhell**lo worldhe**ello world**dhello wor**rldhello w**worldhello**o worldhel**llo worldh**hello worl**ldhello wo**orldhello ** worldhell**lo worldhe**ello world**dhello wor**rldhello w**worldhello**o worldhel**llo worldh**hello worl**ldhello wo**orldhello ** worldhell**lo worldhe**ello world**dhello wor**rldhello w**worldhello**o worldhel**llo worldh**hello worl**ldhello wo**orldhello ** worldhell**lo worldhe**ello world**dhello wor**rldhello w**worldhello**o worldhel**llo worldh**hello worl**ldhello wo**orldhello ** worldhell**lo worldhe**ello world**dhello wor**rldhello w**worldhello**o worldhel**llo worldh**hello worl**ldhello wo**orldhello ** worldhell**lo worldhe**ello world**dhello wor**rldhello w**worldhello**o worldhel**llo worldh**hello worl**ldhello wo**orldhello ** worldhell**lo worldhe**ello world**dhello wor**rldhello w**worldhello**o worldhel**llo worldh**hello worl**ldhello wo**orldhello ** worldhell**lo worldhe**ello world**dhello wor**rldhello w**worldhello**o worldhel**llo worldh**hello worl**ldhello wo**orldhello ** worldhell**lo worldhe**ello world**dhello wor**rldhello w**worldhello**o worldhel**llo worldh**hello worl**ldhello wo**orldhello ** worldhell**lo worldhe**ello world**dhello wor**rldhello w**worldhello**o worldhel**llo worldh**hello worl**ldhello wo**orldhello ** worldhell**lo worldhe**ello world**dhello wor**rldhello w**worldhello**o worldhel**llo worldh**hello worl**ldhello wo**orldhello ** worldhell**lo worldhe**ello world**dhello wor**rldhello w**worldhello**o worldhel**llo worldh**hello worl**ldhello wo**orldhello ** worldhell**lo worldhe**ello world**dhello wor**rldhello w**worldhello**o worldhel**llo worldh**hello worl**ldhello wo**orldhello ** worldhell**lo worldhe**ello world**dhello wor**rldhello w**worldhello**o worldhel**llo worldh**hello worl**ldhello wo**orldhello ** worldhell**lo worldhe**ello world**dhello wor**rldhello w**worldhello**o worldhel**llo worldh**hello worl**ldhello wo**orldhello ** worldhell**lo worldhe**ello world**dhello wor**rldhello w**worldhello**o worldhel**llo worldh**hello worl**ldhello wo**orldhello ** worldhell**lo worldhe**ello world**dhello wor**rldhello w**worldhello**o worldhel**llo worldh**hello worl**ldhello wo**orldhello ** worldhell**lo worldhe**ello world**dhello wor**rldhello w**worldhello**o worldhel**llo worldh**hello worl**ldhello wo**orldhello ** worldhell**lo worldhe**ello world**dhello wor**rldhello w**worldhello**o worldhel**llo worldh**hello worl**ldhello wo**orldhello ** worldhell**lo worldhe**ello world**dhello wor**rldhello w**worldhello**o worldhel**llo worldh**hello worl**ldhello wo**orldhello ** worldhell**lo worldhe**ello world**dhello wor**rldhello w**worldhello**o worldhel**llo worldh**hello worl**ldhello wo**orldhello ** worldhell**lo worldhe**ello world**dhello wor**rldhello w**worldhello**o worldhel**llo worldh**hello worl**ldhello wo**orldhello ** worldhell**lo worldhe**ello world**dhello wor**rldhello w**worldhello**o worldhel**llo worldh**hello worl**ldhello wo**orldhello ** worldhell**lo worldhe**ello world**dhello wor**rldhello w**worldhello**o worldhel**llo worldh**hello worl**ldhello wo**orldhello ** worldhell**lo worldhe**ello world**dhello wor**rldhello w**worldhello**o worldhel**llo worldh**hello worl**ldhello wo**orldhello ** worldhell**lo worldhe**ello world**dhello wor**rldhello w**worldhello**o worldhel**llo worldh**hello worl**ldhello wo**orldhello ** worldhell**lo worldhe**ello world**dhello wor**rldhello w**worldhello**o worldhel**llo worldh**hello worl**ldhello wo**orldhello ** worldhell**lo worldhe**ello world**dhello wor**rldhello w**worldhello**o worldhel**llo worldh**hello worl**ldhello wo**orldhello ** worldhell**lo worldhe**ello world**dhello wor**rldhello w**worldhello**o worldhel**llo worldh**hello worl**ldhello wo**orldhello ** worldhell**lo worldhe**ello world**dhello wor**rldhello w**worldhello**o worldhel**llo worldh**hello worl**ldhello wo**orldhello ** worldhell**lo worldhe**ello world**dhello wor**rldhello w**worldhello**o worldhel**llo worldh**hello worl**ldhello wo**orldhello ** worldhell**lo worldhe**ello world**dhello wor**rldhello w**worldhello**o worldhel**llo worldh**hello worl**ldhello wo**orldhello ** worldhell**lo worldhe**ello world**dhello wor**rldhello w**worldhello**o worldhel**llo worldh**hello worl**ldhello wo**orldhello ** worldhell**lo worldhe**ello world**dhello wor**rldhello w**worldhello**o worldhel**llo worldh**hello worl**ldhello wo**orldhello ** worldhell**lo worldhe**ello world**dhello wor**rldhello w**worldhello**o worldhel**llo worldh**hello worl**ldhello wo**orldhello ** worldhell**lo worldhe**ello world**dhello wor**rldhello w**worldhello**o worldhel**llo worldh**hello worl**ldhello wo**orldhello ** worldhell**lo worldhe**ello world**dhello wor**rldhello w**worldhello**o worldhel**llo worldh**hello worl**ldhello wo**orldhello ** worldhell**lo worldhe**ello world**dhello wor**rldhello w**worldhello**o worldhel**llo worldh**hello worl**ldhello wo**orldhello ** worldhell**lo worldhe**ello world**dhello wor**rldhello w**worldhello**o worldhel**llo worldh**hello worl**ldhello wo**orldhello ** worldhell**lo worldhe**ello world**dhello wor**rldhello w**worldhello**o worldhel**llo worldh**hello worl**ldhello wo**orldhello ** worldhell**lo worldhe**ello world**dhello wor**rldhello w**worldhello**o worldhel**llo worldh**hello worl**ldhello wo**orldhello ** worldhell**lo worldhe**ello world**dhello wor**rldhello w**worldhello**o worldhel**llo worldh**hello worl**ldhello wo**orldhello ** worldhell**lo worldhe**ello world**dhello wor**rldhello w**worldhello**o worldhel**llo worldh**hello worl**ldhello wo**orldhello ** worldhell**lo worldhe**ello world**dhello wor**rldhello w**worldhello**o worldhel**llo worldh**hello worl**ldhello wo**orldhello ** worldhell**lo worldhe**ello world**dhello wor**rldhello w**worldhello**o worldhel**llo worldh**hello worl**ldhello wo**orldhello ** worldhell**lo worldhe**ello world**dhello wor**rldhello w**worldhello**o worldhel**llo worldh**hello worl**ldhello wo**orldhello ** worldhell**lo worldhe**ello world**dhello wor**rldhello w**worldhello**o worldhel**llo worldh**hello worl**ldhello wo**orldhello ** worldhell**lo worldhe**ello world**dhello wor**rldhello w**worldhello**o worldhel**llo worldh**hello worl**ldhello wo**orldhello ** worldhell**lo worldhe**ello world**dhello wor**rldhello w**worldhello**o worldhel**llo worldh**hello worl**ldhello wo**orldhello ** worldhell**lo worldhe**ello world**dhello wor**rldhello w**worldhello**o worldhel**llo worldh**hello worl**ldhello wo**orldhello ** worldhell**lo worldhe**ello world**dhello wor**rldhello w**worldhello**o worldhel**llo worldh**hello worl**ldhello wo**orldhello ** worldhell**lo worldhe**ello world**dhello wor**rldhello w**worldhello**o worldhel**llo worldh**hello worl**ldhello wo**orldhello ** worldhell**lo worldhe**ello world**dhello wor**rldhello w**worldhello**o worldhel**llo worldh**hello worl**ldhello wo**orldhello ** worldhell**lo worldhe**ello world**dhello wor**rldhello w**worldhello**o worldhel**llo worldh**hello worl**ldhello wo**orldhello ** worldhell**lo worldhe**ello world**dhello wor**rldhello w**worldhello**o worldhel**llo worldh**hello worl**ldhello wo**orldhello ** worldhell**lo worldhe**ello world**dhello wor**rldhello w**worldhello**o worldhel**llo worldh**hello worl**ldhello wo**orldhello ** worldhell**lo worldhe**ello world**dhello wor**rldhello w**worldhello**o worldhel**llo worldh**hello worl**ldhello wo**orldhello ** worldhell**lo worldhe**ello world**dhello wor**rldhello w**worldhello**o worldhel**llo worldh**hello worl**ldhello wo**orldhello ** worldhell**lo worldhe**ello world**dhello wor**rldhello w**worldhello**o worldhel**llo worldh**hello worl**ldhello wo**orldhello ** worldhell**lo worldhe**ello world**dhello wor**rldhello w**worldhello**o worldhel**llo worldh**hello worl**ldhello wo**orldhello ** worldhell**lo worldhe**ello world**dhello wor**rldhello w**worldhello**o worldhel**llo worldh**hello worl**ldhello wo**orldhello ** worldhell**lo worldhe**ello world**dhello wor**rldhello w**worldhello**o worldhel**llo worldh**hello worl**ldhello wo**orldhello ** worldhell**lo worldhe**ello world**dhello wor**rldhello w**worldhello**o worldhel**llo worldh**hello worl**ldhello wo**orldhello ** worldhell**lo worldhe**ello world**dhello wor**rldhello w**worldhello**o worldhel**llo worldh**hello worl**ldhello wo**orldhello ** worldhell**lo worldhe**ello world**dhello wor**rldhello w**worldhello**o worldhel**llo worldh**hello worl**ldhello wo**orldhello ** worldhell**lo worldhe**ello world**dhello wor**rldhello w**worldhello**o worldhel**llo worldh**hello worl**ldhello wo**orldhello ** worldhell**lo worldhe**ello world**dhello wor**rldhello w**worldhello**o worldhel**llo worldh**hello worl**ldhello wo**orldhello ** worldhell**lo worldhe**ello world**dhello wor**rldhello w**worldhello**o worldhel**llo worldh**hello worl**ldhello wo**orldhello ** worldhell**lo worldhe**ello world**dhello wor**rldhello w**worldhello**o worldhel**llo worldh**hello worl**ldhello wo**orldhello ** worldhell**lo worldhe**ello world**dhello wor**rldhello w**worldhello**o worldhel**llo worldh**hello worl**ldhello wo**orldhello ** worldhell**lo worldhe**ello world**dhello wor**rldhello w**worldhello**o worldhel**llo worldh**hello worl**ldhello wo**orldhello ** worldhell**lo worldhe**ello world**dhello wor**rldhello w**worldhello**o worldhel**llo worldh**hello worl**ldhello wo**orldhello ** worldhell**lo worldhe**ello world**dhello wor**rldhello w**worldhello**o worldhel**llo worldh**hello worl**ldhello wo**orldhello ** worldhell**lo worldhe**ello world**dhello wor**rldhello w**worldhello**o worldhel**llo worldh**hello worl**ldhello wo**orldhello ** worldhell**lo worldhe**ello world**dhello wor**rldhello w**worldhello**o worldhel**llo worldh**hello worl**ldhello wo**orldhello ** worldhell**lo worldhe**ello world**dhello wor**rldhello w**worldhello**o worldhel**llo worldh**hello worl**ldhello wo**orldhello ** worldhell**lo worldhe**ello world**dhello wor**rldhello w**worldhello**o worldhel**llo worldh**hello worl**ldhello wo**orldhello ** worldhell**lo worldhe**ello world**dhello wor**rldhello w**worldhello**o worldhel**llo worldh**hello worl**ldhello wo**orldhello ** worldhell**lo worldhe**ello world**dhello wor**rldhello w**worldhello**o worldhel**llo worldh**hello worl**ldhello wo**orldhello ** worldhell**lo worldhe**ello world**dhello wor**rldhello w**worldhello**o worldhel**llo worldh**hello worl**ldhello wo**orldhello ** worldhell**lo worldhe**ello world**dhello wor**rldhello w**worldhello**o worldhel**llo worldh**hello worl**ldhello wo**orldhello ** worldhell**lo worldhe**ello world**dhello wor**rldhello w**worldhello**o worldhel**llo worldh**hello worl**ldhello wo**orldhello ** worldhell**lo worldhe**ello world**dhello wor**rldhello w**worldhello**o worldhel**llo worldh**hello worl**ldhello wo**orldhello ** worldhell**lo worldhe**ello world**dhello wor**rldhello w**worldhello**o worldhel**llo worldh**hello worl**ldhello wo**orldhello ** worldhell**lo worldhe**ello world**dhello wor**rldhello w**worldhello**o worldhel**llo worldh**hello worl**ldhello wo**orldhello ** worldhell**lo worldhe**ello world**dhello wor**rldhello w**worldhello**o worldhel**llo worldh**hello worl**ldhello wo**orldhello ** worldhell**lo worldhe**ello world**dhello wor**rldhello w**worldhello**o worldhel**llo worldh**hello worl**ldhello wo**orldhello ** worldhell**lo worldhe**ello world**dhello wor**rldhello w**worldhello**o worldhel**llo worldh**hello worl**ldhello wo**orldhello ** worldhell**lo worldhe**ello world**dhello wor**rldhello w**worldhello**o worldhel**llo worldh**hello worl**ldhello wo**orldhello ** worldhell**lo worldhe**ello world**dhello wor**rldhello w**worldhello**o worldhel**llo worldh**hello worl**ldhello wo**orldhello ** worldhell**lo worldhe**ello world**dhello wor**rldhello w**worldhello**o worldhel**llo worldh**hello worl**ldhello wo**orldhello ** worldhell**lo worldhe**ello world**dhello wor**rldhello w**worldhello**o worldhel**llo worldh**hello worl**ldhello wo**orldhello ** worldhell**lo worldhe**ello world**dhello wor**rldhello w**worldhello**o worldhel**llo worldh**hello worl**ldhello wo**orldhello ** worldhell**lo worldhe**ello world**dhello wor**rldhello w**worldhello**o worldhel**llo worldh**hello worl**ldhello wo**orldhello ** worldhell**lo worldhe**ello world**dhello wor**rldhello w**worldhello**o worldhel**llo worldh**hello worl**ldhello wo**orldhello ** worldhell**lo worldhe**ello world**dhello wor**rldhello w**worldhello**o worldhel**llo worldh**hello worl**ldhello wo**orldhello ** worldhell**lo worldhe**ello world**dhello wor**rldhello w**worldhello**o worldhel**llo worldh**hello worl**ldhello wo**orldhello ** worldhell**lo worldhe**ello world**dhello wor**rldhello w**worldhello**o worldhel**llo worldh**hello worl**ldhello wo**orldhello ** worldhell**lo worldhe**ello world**dhello wor**rldhello w**worldhello**o worldhel**llo worldh**hello worl**ldhello wo**orldhello ** worldhell**lo worldhe**ello world**dhello wor**rldhello w**worldhello**o worldhel**llo worldh**hello worl**ldhello wo**orldhello ** worldhell**lo worldhe**ello world**dhello wor**rldhello w**worldhello**o worldhel**llo worldh**hello worl**ldhello wo**orldhello ** worldhell**lo worldhe**ello world**dhello wor**rldhello w**worldhello**o worldhel**llo worldh**hello worl**ldhello wo**orldhello ** worldhell**lo worldhe**ello world**dhello wor**rldhello w**worldhello**o worldhel**llo worldh**hello worl**ldhello wo**orldhello ** worldhell**lo worldhe**ello world**dhello wor**rldhello w**worldhello**o worldhel**llo worldh**hello worl**ldhello wo**orldhello ** worldhell**lo worldhe**ello world**dhello wor**rldhello w**worldhello**o worldhel**llo worldh**hello worl**ldhello wo**orldhello ** worldhell**lo worldhe**ello world**dhello wor**rldhello w**worldhello**o worldhel**llo worldh**hello worl**ldhello wo**orldhello ** worldhell**lo worldhe**ello world**dhello wor**rldhello w**worldhello**o worldhel**llo worldh**hello worl**ldhello wo**orldhello ** worldhell**lo worldhe**ello world**dhello wor**rldhello w**worldhello**o worldhel**llo worldh**hello worl**ldhello wo**orldhello ** worldhell**lo worldhe**ello world**dhello wor**rldhello w**worldhello**o worldhel**llo worldh**hello worl**ldhello wo**orldhello ** worldhell**lo worldhe**ello world**dhello wor**rldhello w**worldhello**o worldhel**llo worldh**hello worl**ldhello wo**orldhello ** worldhell**lo worldhe**ello world**dhello wor**rldhello w**worldhello**o worldhel**llo worldh**hello worl**ldhello wo**orldhello ** worldhell**lo worldhe**ello world**dhello wor**rldhello w**worldhello**o worldhel**llo worldh**hello worl**ldhello wo**orldhello ** worldhell**lo worldhe**ello world**dhello wor**rldhello w**worldhello**o worldhel**llo worldh**hello worl**ldhello wo**orldhello ** worldhell**lo worldhe**ello world**dhello wor**rldhello w**worldhello**o worldhel**llo worldh**hello worl**ldhello wo**orldhello ** worldhell**lo worldhe**ello world**dhello wor**rldhello w**worldhello**o worldhel**llo worldh**hello worl**ldhello wo**orldhello ** worldhell**lo worldhe**ello world**dhello wor**rldhello w**worldhello**o worldhel**llo worldh**hello worl**ldhello wo**orldhello ** worldhell**lo worldhe**ello world**dhello wor**rldhello w**worldhello**o worldhel**llo worldh**hello worl**ldhello wo**orldhello ** worldhell**lo worldhe**ello world**dhello wor**rldhello w**worldhello**o worldhel**llo worldh**hello worl**ldhello wo**orldhello ** worldhell**lo worldhe**ello world**dhello wor**rldhello w**worldhello**o worldhel**llo worldh**hello worl**ldhello wo**orldhello ** worldhell**lo worldhe**ello world**dhello wor**rldhello w**worldhello**o worldhel**llo worldh**hello worl**ldhello wo**orldhello ** worldhell**lo worldhe**ello world**dhello wor**rldhello w**worldhello**o worldhel**llo worldh**hello worl**ldhello wo**orldhello ** worldhell**lo worldhe**ello world**dhello wor**rldhello w**worldhello**o worldhel**llo worldh**hello worl**ldhello wo**orldhello ** worldhell**lo worldhe**ello world**dhello wor**rldhello w**worldhello**o worldhel**llo worldh**hello worl**ldhello wo**orldhello ** worldhell**lo worldhe**ello world**dhello wor**rldhello w**worldhello**o worldhel**llo worldh**hello worl**ldhello wo**orldhello ** worldhell**lo worldhe**ello world**dhello wor**rldhello w**worldhello**o worldhel**llo worldh**hello worl**ldhello wo**orldhello ** worldhell**lo worldhe**ello world**dhello wor**rldhello w**worldhello**o worldhel**llo worldh**hello worl**ldhello wo**orldhello ** worldhell**lo worldhe**ello world**dhello wor**rldhello w**worldhello**o worldhel**llo worldh**hello worl**ldhello wo**orldhello ** worldhell**lo worldhe**ello world**dhello wor**rldhello w**worldhello**o worldhel**llo worldh**hello worl**ldhello wo**orldhello ** worldhell**lo worldhe**ello world**dhello wor**rldhello w**worldhello**o worldhel**llo worldh**hello worl**ldhello wo**orldhello ** worldhell**lo worldhe**ello world**dhello wor**rldhello w**worldhello**o worldhel**llo worldh**hello worl**ldhello wo**orldhello ** worldhell**lo worldhe**ello world**dhello wor**rldhello w**worldhello**o worldhel**llo worldh**hello worl**ldhello wo**orldhello ** worldhell**lo worldhe**ello world**dhello wor**rldhello w**worldhello**o worldhel**llo worldh**hello worl**ldhello wo**orldhello ** worldhell**lo worldhe**ello world**dhello wor**rldhello w**worldhello**o worldhel**llo worldh**hello worl**ldhello wo**orldhello ** worldhell**lo worldhe**ello world**dhello wor**rldhello w**worldhello**o worldhel**llo worldh**hello worl**ldhello wo**orldhello ** worldhell**lo worldhe**ello world**dhello wor**rldhello w**worldhello**o worldhel**llo worldh**hello worl**ldhello wo**orldhello ** worldhell**lo worldhe**ello world**dhello wor**rldhello w**worldhello**o worldhel**llo worldh**hello worl**ldhello wo**orldhello ** worldhell**lo worldhe**ello world**dhello wor**rldhello w**worldhello**o worldhel**llo worldh**hello worl**ldhello wo**orldhello ** worldhell**lo worldhe**ello world**dhello wor**rldhello w**worldhello**o worldhel**llo worldh**hello worl**ldhello wo**orldhello ** worldhell**lo worldhe**ello world**dhello wor**rldhello w**worldhello**o worldhel**llo worldh**hello worl**ldhello wo**orldhello ** worldhell**lo worldhe**ello world**dhello wor**rldhello w**worldhello**o worldhel**llo worldh**hello worl**ldhello wo**orldhello ** worldhell**lo worldhe**ello world**dhello wor**rldhello w**worldhello**o worldhel**llo worldh**hello worl**ldhello wo**orldhello ** worldhell**lo worldhe**ello world**dhello wor**rldhello w**worldhello**o worldhel**llo worldh**hello worl**ldhello wo**orldhello ** worldhell**lo worldhe**ello world**dhello wor**rldhello w**worldhello**o worldhel**llo worldh**hello worl**ldhello wo**orldhello ** worldhell**lo worldhe**ello world**dhello wor**rldhello w**worldhello**o worldhel**llo worldh**hello worl**ldhello wo**orldhello ** worldhell**lo worldhe**ello world**dhello wor**rldhello w**worldhello**o worldhel**llo worldh**hello worl**ldhello wo**orldhello ** worldhell**lo worldhe**ello world**dhello wor**rldhello w**worldhello**o worldhel**llo worldh**hello worl**ldhello wo**orldhello ** worldhell**lo worldhe**ello world**dhello wor**rldhello w**worldhello**o worldhel**llo worldh**hello worl**ldhello wo**orldhello ** worldhell**lo worldhe**ello world**dhello wor**rldhello w**worldhello**o worldhel**llo worldh**hello worl**ldhello wo**orldhello ** worldhell**lo worldhe**ello world**dhello wor**rldhello w**worldhello**o worldhel**llo worldh**hello worl**ldhello wo**orldhello ** worldhell**lo worldhe**ello world**dhello wor**rldhello w**worldhello**o worldhel**llo worldh**hello worl**ldhello wo**orldhello ** worldhell**lo worldhe**ello world**dhello wor**rldhello w**worldhello**o worldhel**llo worldh**hello worl**ldhello wo**orldhello ** worldhell**lo worldhe**ello world**dhello wor**rldhello w**worldhello**o worldhel**llo worldh**hello worl**ldhello wo**orldhello ** worldhell**lo worldhe**ello world**dhello wor**rldhello w**worldhello**o worldhel**llo worldh**hello worl**ldhello wo**orldhello ** worldhell**lo worldhe**ello world**dhello wor**rldhello w**worldhello**o worldhel**llo worldh**hello worl**ldhello wo**orldhello ** worldhell**lo worldhe**ello world**dhello wor**rldhello w**worldhello**o worldhel**llo worldh**hello worl**ldhello wo**orldhello ** worldhell**lo worldhe**ello world**dhello wor**rldhello w**worldhello**o worldhel**llo worldh**hello worl**ldhello wo**orldhello ** worldhell**lo worldhe**ello world**dhello wor**rldhello w**worldhello**o worldhel**llo worldh**hello worl**ldhello wo**orldhello ** worldhell**lo worldhe**ello world**dhello wor**rldhello w**worldhello**o worldhel**llo worldh**hello worl**ldhello wo**orldhello ** worldhell**lo worldhe**ello world**dhello wor**rldhello w**worldhello**o worldhel**llo worldh**hello worl**ldhello wo**orldhello ** worldhell**lo worldhe**ello world**dhello wor**rldhello w**worldhello**o worldhel**llo worldh**hello worl**ldhello wo**orldhello ** worldhell**lo worldhe**ello world**dhello wor**rldhello w**worldhello**o worldhel**llo worldh**hello worl**ldhello wo**orldhello ** worldhell**lo worldhe**ello world**dhello wor**rldhello w**worldhello**o worldhel**llo worldh**hello worl**ldhello wo**orldhello ** worldhell**lo worldhe**ello world**dhello wor**rldhello w**worldhello**o worldhel**llo worldh**hello worl**ldhello wo**orldhello ** worldhell**lo worldhe**ello world**dhello wor**rldhello w**worldhello**o worldhel**llo worldh**hello worl**ldhello wo**orldhello ** worldhell**lo worldhe**ello world**dhello wor**rldhello w**worldhello**o worldhel**llo worldh**hello worl**ldhello wo**orldhello ** worldhell**lo worldhe**ello world**dhello wor**rldhello w**worldhello**o worldhel**llo worldh**hello worl**ldhello wo**orldhello ** worldhell**lo worldhe**ello world**dhello wor**rldhello w**worldhello**o worldhel**llo worldh**hello worl**ldhello wo**orldhello ** worldhell**lo worldhe**ello world**dhello wor**rldhello w**worldhello**o worldhel**llo worldh**hello worl**ldhello wo**orldhello ** worldhell**lo worldhe**ello world**dhello wor**rldhello w**worldhello**o worldhel**llo worldh**hello worl**ldhello wo**orldhello ** worldhell**lo worldhe**ello world**dhello wor**rldhello w**worldhello**o worldhel**llo worldh**hello worl**ldhello wo**orldhello ** worldhell**lo worldhe**ello world**dhello wor**rldhello w**worldhello**o worldhel**llo worldh**hello worl**ldhello wo**orldhello ** worldhell**lo worldhe**ello world**dhello wor**rldhello w**worldhello**o worldhel**llo worldh**hello worl**ldhello wo**orldhello ** worldhell**lo worldhe**ello world**dhello wor**rldhello w**worldhello**o worldhel**llo worldh**hello worl**ldhello wo**orldhello ** worldhell**lo worldhe**ello world**dhello wor**rldhello w**worldhello**o worldhel**llo worldh**hello worl**ldhello wo**orldhello ** worldhell**lo worldhe**ello world**dhello wor**rldhello w**worldhello**o worldhel**llo worldh**hello worl**ldhello wo**orldhello ** worldhell**lo worldhe**ello world**dhello wor**rldhello w**worldhello**o worldhel**llo worldh**hello worl**ldhello wo**orldhello ** worldhell**lo worldhe**ello world**dhello wor**rldhello w**worldhello**o worldhel**llo worldh**hello worl**ldhello wo**orldhello ** worldhell**lo worldhe**ello world**dhello wor**rldhello w**worldhello**o worldhel**llo worldh**hello worl**ldhello wo**orldhello ** worldhell**lo worldhe**ello world**dhello wor**rldhello w**worldhello**o worldhel**llo worldh**hello worl**ldhello wo**orldhello ** worldhell**lo worldhe**ello world**dhello wor**rldhello w**worldhello**o worldhel**llo worldh**hello worl**ldhello wo**orldhello ** worldhell**lo worldhe**ello world**dhello wor**rldhello w**worldhello**o worldhel**llo worldh**hello worl**ldhello wo**orldhello ** worldhell**lo worldhe**ello world**dhello wor**rldhello w**worldhello**o worldhel**llo worldh**hello worl**ldhello wo**orldhello ** worldhell**lo worldhe**ello world**dhello wor**rldhello w**worldhello**o worldhel**llo worldh**hello worl**ldhello wo**orldhello ** worldhell**lo worldhe**ello world**dhello wor**rldhello w**worldhello**o worldhel**llo worldh**hello worl**ldhello wo**orldhello ** worldhell**lo worldhe**ello world**dhello wor**rldhello w**worldhello**o worldhel**llo worldh**hello worl**ldhello wo**orldhello ** worldhell**lo worldhe**ello world**dhello wor**rldhello w**worldhello**o worldhel**llo worldh**hello worl**ldhello wo**orldhello ** worldhell**lo worldhe**ello world**dhello wor**rldhello w**worldhello**o worldhel**llo worldh**hello worl**ldhello wo**orldhello ** worldhell**lo worldhe**ello world**dhello wor**rldhello w**worldhello**o worldhel**llo worldh**hello worl**ldhello wo**orldhello ** worldhell**lo worldhe**ello world**dhello wor**rldhello w**worldhello**o worldhel**llo worldh**hello worl**ldhello wo**orldhello ** worldhell**lo worldhe**ello world**dhello wor**rldhello w**worldhello**o worldhel**llo worldh**hello worl**ldhello wo**orldhello ** worldhell**lo worldhe**ello world**dhello wor**rldhello w**worldhello**o worldhel**llo worldh**hello worl**ldhello wo**orldhello ** worldhell**lo worldhe**ello world**dhello wor**rldhello w**worldhello**o worldhel**llo worldh**hello worl**ldhello wo**orldhello ** worldhell**lo worldhe**ello world**dhello wor**rldhello w**worldhello**o worldhel**llo worldh**hello worl**ldhello wo**orldhello ** worldhell**lo worldhe**ello world**dhello wor**rldhello w**worldhello**o worldhel**llo worldh**hello worl**ldhello wo**orldhello ** worldhell**lo worldhe**ello world**dhello wor**rldhello w**worldhello**o worldhel**llo worldh**hello worl**ldhello wo**orldhello ** worldhell**lo worldhe**ello world**dhello wor**rldhello w**worldhello**o worldhel**llo worldh**hello worl**ldhello wo**orldhello ** worldhell**lo worldhe**ello world**dhello wor**rldhello w**worldhello**o worldhel**llo worldh**hello worl**ldhello wo**orldhello ** worldhell**lo worldhe**ello world**dhello wor**rldhello w**worldhello**o worldhel**llo worldh**hello worl**ldhello wo**orldhello ** worldhell**lo worldhe**ello world**dhello wor**rldhello w**worldhello**o worldhel**llo worldh**hello worl**ldhello wo**orldhello ** worldhell**lo worldhe**ello world**dhello wor**rldhello w**worldhello**o worldhel**llo worldh**hello worl**ldhello wo**orldhello ** worldhell**lo worldhe**ello world**dhello wor**rldhello w**worldhello**o worldhel**llo worldh**hello worl**ldhello wo**orldhello ** worldhell**lo worldhe**ello world**dhello wor**rldhello w**worldhello**o worldhel**llo worldh**hello worl**ldhello wo**orldhello ** worldhell**lo worldhe**ello world**dhello wor**rldhello w**worldhello**o worldhel**llo worldh**hello worl**ldhello wo**orldhello ** worldhell**lo worldhe**ello world**dhello wor**rldhello w**worldhello**o worldhel**llo worldh**hello worl**ldhello wo**orldhello ** worldhell**lo worldhe**ello world**dhello wor**rldhello w**worldhello**o worldhel**llo worldh**hello worl**ldhello wo**orldhello ** worldhell**lo worldhe**ello world**dhello wor**rldhello w**worldhello**o worldhel**llo worldh**hello worl**ldhello wo**orldhello ** worldhell**lo worldhe**ello world**dhello wor**rldhello w**worldhello**o worldhel**llo worldh**hello worl**ldhello wo**orldhello ** worldhell**lo worldhe**ello world**dhello wor**rldhello w**worldhello**o worldhel**llo worldh**hello worl**ldhello wo**orldhello ** worldhell**lo worldhe**ello world**dhello wor**rldhello w**worldhello**o worldhel**llo worldh**hello worl**ldhello wo**orldhello ** worldhell**lo worldhe**ello world**dhello wor**rldhello w**worldhello**o worldhel**llo worldh**hello worl**ldhello wo**orldhello ** worldhell**lo worldhe**ello world**dhello wor**rldhello w**worldhello**o worldhel**llo worldh**hello worl**ldhello wo**orldhello ** worldhell**lo worldhe**ello world**dhello wor**rldhello w**worldhello**o worldhel**llo worldh**hello worl**ldhello wo**orldhello ** worldhell**lo worldhe**ello world**dhello wor**rldhello w**worldhello**o worldhel**llo worldh**hello worl**ldhello wo**orldhello ** worldhell**lo worldhe**ello world**dhello wor**rldhello w**worldhello**o worldhel**llo worldh**hello worl**ldhello wo**orldhello ** worldhell**lo worldhe**ello world**dhello wor**rldhello w**worldhello**o worldhel**llo worldh**hello worl**ldhello wo**orldhello ** worldhell**lo worldhe**ello world**dhello wor**rldhello w**worldhello**o worldhel**llo worldh**hello worl**ldhello wo**orldhello ** worldhell**lo worldhe**ello world**dhello wor**rldhello w**worldhello**o worldhel**llo worldh**hello worl**ldhello wo**orldhello ** worldhell**lo worldhe**ello world**dhello wor**rldhello w**worldhello**o worldhel**llo worldh**hello worl**ldhello wo**orldhello ** worldhell**lo worldhe**ello world**dhello wor**rldhello w**worldhello**o worldhel**llo worldh**hello worl**ldhello wo**orldhello ** worldhell**lo worldhe**ello world**dhello wor**rldhello w**worldhello**o worldhel**llo worldh**hello worl**ldhello wo**orldhello ** worldhell**lo worldhe**ello world**dhello wor**rldhello w**worldhello**o worldhel**llo worldh**hello worl**ldhello wo**orldhello ** worldhell**lo worldhe**ello world**dhello wor**rldhello w**worldhello**o worldhel**llo worldh**hello worl**ldhello wo**orldhello ** worldhell**lo worldhe**ello world**dhello wor**rldhello w**worldhello**o worldhel**llo worldh**hello worl**ldhello wo**orldhello ** worldhell**lo worldhe**ello world**dhello wor**rldhello w**worldhello**o worldhel**llo worldh**hello worl**ldhello wo**orldhello ** worldhell**lo worldhe**ello world**dhello wor**rldhello w**worldhello**o worldhel**llo worldh**hello worl**ldhello wo**orldhello ** worldhell**lo worldhe**ello world**dhello wor**rldhello w**worldhello**o worldhel**llo worldh**hello worl**ldhello wo**orldhello ** worldhell**lo worldhe**ello world**dhello wor**rldhello w**worldhello**o worldhel**llo worldh**hello worl**ldhello wo**orldhello ** worldhell**lo worldhe**ello world**dhello wor**rldhello w**worldhello**o worldhel**llo worldh**hello worl**ldhello wo**orldhello ** worldhell**lo worldhe**ello world**dhello wor**rldhello w**worldhello**o worldhel**llo worldh**hello worl**ldhello wo**orldhello ** worldhell**lo worldhe**ello world**dhello wor**rldhello w**worldhello**o worldhel**llo worldh**hello worl**ldhello wo**orldhello ** worldhell**lo worldhe**ello world**dhello wor**rldhello w**worldhello**o worldhel**llo worldh**hello worl**ldhello wo**orldhello ** worldhell**lo worldhe**ello world**dhello wor**rldhello w**worldhello**o worldhel**llo worldh**hello worl**ldhello wo**orldhello ** worldhell**lo worldhe**ello world**dhello wor**rldhello w**worldhello**o worldhel**llo worldh**hello worl**ldhello wo**orldhello ** worldhell**lo worldhe**ello world**dhello wor**rldhello w**worldhello**o worldhel**llo worldh**hello worl**ldhello wo**orldhello ** worldhell**lo worldhe**ello world**dhello wor**rldhello w**worldhello**o worldhel**llo worldh**hello worl**ldhello wo**orldhello ** worldhell**lo worldhe**ello world**dhello wor**rldhello w**worldhello**o worldhel**llo worldh**hello worl**ldhello wo**orldhello ** worldhell**lo worldhe**ello world**dhello wor**rldhello w**worldhello**o worldhel**llo worldh**hello worl**ldhello wo**orldhello ** worldhell**lo worldhe**ello world**dhello wor**rldhello w**worldhello**o worldhel**llo worldh**hello worl**ldhello wo**orldhello ** worldhell**lo worldhe**ello world**dhello wor**rldhello w**worldhello**o worldhel**llo worldh**hello worl**ldhello wo**orldhello ** worldhell**lo worldhe**ello world**dhello wor**rldhello w**worldhello**o worldhel**llo worldh**hello worl**ldhello wo**orldhello ** worldhell**lo worldhe**ello world**dhello wor**rldhello w**worldhello**o worldhel**llo worldh**hello worl**ldhello wo**orldhello ** worldhell**lo worldhe**ello world**dhello wor**rldhello w**worldhello**o worldhel**llo worldh**hello worl**ldhello wo**orldhello ** worldhell**lo worldhe**ello world**dhello wor**rldhello w**worldhello**o worldhel**llo worldh**hello worl**ldhello wo**orldhello ** worldhell**lo worldhe**ello world**dhello wor**rldhello w**worldhello**o worldhel**llo worldh**hello worl**ldhello wo**orldhello ** worldhell**lo worldhe**ello world**dhello wor**rldhello w**worldhello**o worldhel**llo worldh**hello worl**ldhello wo**orldhello ** worldhell**lo worldhe**ello world**dhello wor**rldhello w**worldhello**o worldhel**llo worldh**hello worl**ldhello wo**orldhello ** worldhell**lo worldhe**ello world**dhello wor**rldhello w**worldhello**o worldhel**llo worldh**hello worl**ldhello wo**orldhello ** worldhell**lo worldhe**ello world**dhello wor**rldhello w**worldhello**o worldhel**llo worldh**hello worl**ldhello wo**orldhello ** worldhell**lo worldhe**ello world**dhello wor**rldhello w**worldhello**o worldhel**llo worldh**hello worl**ldhello wo**orldhello ** worldhell**lo worldhe**ello world**dhello wor**rldhello w**worldhello**o worldhel**llo worldh**hello worl**ldhello wo**orldhello ** worldhell**lo worldhe**ello world**dhello wor**rldhello w**worldhello**o worldhel**llo worldh**hello worl**ldhello wo**orldhello ** worldhell**lo worldhe**ello world**dhello wor**rldhello w**worldhello**o worldhel**llo worldh**hello worl**ldhello wo**orldhello ** worldhell**lo worldhe**ello world**dhello wor**rldhello w**worldhello**o worldhel**llo worldh**hello worl**ldhello wo**orldhello ** worldhell**lo worldhe**ello world**dhello wor**rldhello w**worldhello**o worldhel**llo worldh**hello worl**ldhello wo**orldhello ** worldhell**lo worldhe**ello world**dhello wor**rldhello w**worldhello**o worldhel**llo worldh**hello worl**ldhello wo**orldhello ** worldhell**lo worldhe**ello world**dhello wor**rldhello w**worldhello**o worldhel**llo worldh**hello worl**ldhello wo**orldhello ** worldhell**lo worldhe**ello world**dhello wor**rldhello w**worldhello**o worldhel**llo worldh**hello worl**ldhello wo**orldhello ** worldhell**lo worldhe**ello world**dhello wor**rldhello w**worldhello**o worldhel**llo worldh**hello worl**ldhello wo**orldhello ** worldhell**lo worldhe**ello world**dhello wor**rldhello w**worldhello**o worldhel**llo worldh**hello worl**ldhello wo**orldhello ** worldhell**lo worldhe**ello world**dhello wor**rldhello w**worldhello**o worldhel**llo worldh**hello worl**ldhello wo**orldhello ** worldhell**lo worldhe**ello world**dhello wor**rldhello w**worldhello**o worldhel**llo worldh**hello worl**ldhello wo**orldhello ** worldhell**lo worldhe**ello world**dhello wor**rldhello w**worldhello**o worldhel**llo worldh**hello worl**ldhello wo**orldhello ** worldhell**lo worldhe**ello world**dhello wor**rldhello w**worldhello**o worldhel**llo worldh**hello worl**ldhello wo**orldhello ** worldhell**lo worldhe**ello world**dhello wor**rldhello w**worldhello**o worldhel**llo worldh**hello worl**ldhello wo**orldhello ** worldhell**lo worldhe**ello world**dhello wor**rldhello w**worldhello**o worldhel**llo worldh**hello worl**ldhello wo**orldhello ** worldhell**lo worldhe**ello world**dhello wor**rldhello w**worldhello**o worldhel**llo worldh**hello worl**ldhello wo**orldhello ** worldhell**lo worldhe**ello world**dhello wor**rldhello w**worldhello**o worldhel**llo worldh**hello worl**ldhello wo**orldhello ** worldhell**lo worldhe**ello world**dhello wor**rldhello w**worldhello**o worldhel**llo worldh**hello worl**ldhello wo**orldhello ** worldhell**lo worldhe**ello world**dhello wor**rldhello w**worldhello**o worldhel**llo worldh**hello worl**ldhello wo**orldhello ** worldhell**lo worldhe**ello world**dhello wor**rldhello w**worldhello**o worldhel**llo worldh**hello worl**ldhello wo**orldhello ** worldhell**lo worldhe**ello world**dhello wor**rldhello w**worldhello**o worldhel**llo worldh**hello worl**ldhello wo**orldhello ** worldhell**lo worldhe**ello world**dhello wor**rldhello w**worldhello**o worldhel**llo worldh**hello worl**ldhello wo**orldhello ** worldhell**lo worldhe**ello world**dhello wor**rldhello w**worldhello**o worldhel**llo worldh**hello worl**ldhello wo**orldhello ** worldhell**lo worldhe**ello world**dhello wor**rldhello w**worldhello**o worldhel**llo worldh**hello worl**ldhello wo**orldhello ** worldhell**lo worldhe**ello world**dhello wor**rldhello w**worldhello**o worldhel**llo worldh**hello worl**ldhello wo**orldhello ** worldhell**lo worldhe**ello world**dhello wor**rldhello w**worldhello**o worldhel**llo worldh**hello worl**ldhello wo**orldhello ** worldhell**lo worldhe**ello world**dhello wor**rldhello w**worldhello**o worldhel**llo worldh**hello worl**ldhello wo**orldhello ** worldhell**lo worldhe**ello world**dhello wor**rldhello w**worldhello**o worldhel**llo worldh**hello worl**ldhello wo**orldhello ** worldhell**lo worldhe**ello world**dhello wor**rldhello w**worldhello**o worldhel**llo worldh**hello worl**ldhello wo**orldhello ** worldhell**lo worldhe**ello world**dhello wor**rldhello w**worldhello**o worldhel**llo worldh**hello worl**ldhello wo**orldhello ** worldhell**lo worldhe**ello world**dhello wor**rldhello w**worldhello**o worldhel**llo worldh**hello worl**ldhello wo**orldhello ** worldhell**lo worldhe**ello world**dhello wor**rldhello w**worldhello**o worldhel**llo worldh**hello worl**ldhello wo**orldhello ** worldhell**lo worldhe**ello world**dhello wor**rldhello w**worldhello**o worldhel**llo worldh**hello worl**ldhello wo**orldhello ** worldhell**lo worldhe**ello world**dhello wor**rldhello w**worldhello**o worldhel**llo worldh**hello worl**ldhello wo**orldhello ** worldhell**lo worldhe**ello world**dhello wor**rldhello w**worldhello**o worldhel**llo worldh**hello worl**ldhello wo**orldhello ** worldhell**lo worldhe**ello world**dhello wor**rldhello w**worldhello**o worldhel**llo worldh**hello worl**ldhello wo**orldhello ** worldhell**lo worldhe**ello world**dhello wor**rldhello w**worldhello**o worldhel**llo worldh**hello worl**ldhello wo**orldhello ** worldhell**lo worldhe**ello world**dhello wor**rldhello w**worldhello**o worldhel**llo worldh**hello worl**ldhello wo**orldhello ** worldhell**lo worldhe**ello world**dhello wor**rldhello w**worldhello**o worldhel**llo worldh**hello worl**ldhello wo**orldhello ** worldhell**lo worldhe**ello world**dhello wor**rldhello w**worldhello**o worldhel**llo worldh**hello worl**ldhello wo**orldhello ** worldhell**lo worldhe**ello world**dhello wor**rldhello w**worldhello**o worldhel**llo worldh**hello worl**ldhello wo**orldhello ** worldhell**lo worldhe**ello world**dhello wor**rldhello w**worldhello**o worldhel**llo worldh**hello worl**ldhello wo**orldhello ** worldhell**lo worldhe**ello world**dhello wor**rldhello w**worldhello**o worldhel**llo worldh**hello worl**ldhello wo**orldhello ** worldhell**lo worldhe**ello world**dhello wor**rldhello w**worldhello**o worldhel**llo worldh**hello worl**ldhello wo**orldhello ** worldhell**lo worldhe**ello world**dhello wor**rldhello w**worldhello**o worldhel**llo worldh**hello worl**ldhello wo**orldhello ** worldhell**lo worldhe**ello world**dhello wor**rldhello w**worldhello**o worldhel**llo worldh**hello worl**ldhello wo**orldhello ** worldhell**lo worldhe**ello world**dhello wor**rldhello w**worldhello**o worldhel**llo worldh**hello worl**ldhello wo**orldhello ** worldhell**lo worldhe**ello world**dhello wor**rldhello w**worldhello**o worldhel**llo worldh**hello worl**ldhello wo**orldhello ** worldhell**lo worldhe**ello world**dhello wor**rldhello w**worldhello**o worldhel**llo worldh**hello worl**ldhello wo**orldhello ** worldhell**lo worldhe**ello world**dhello wor**rldhello w**worldhello**o worldhel**llo worldh**hello worl**ldhello wo**orldhello ** worldhell**lo worldhe**ello world**dhello wor**rldhello w**worldhello**o worldhel**llo worldh**hello worl**ldhello wo**orldhello ** worldhell**lo worldhe**ello world**dhello wor**rldhello w**worldhello**o worldhel**llo worldh**hello worl**ldhello wo**orldhello ** worldhell**lo worldhe**ello world**dhello wor**rldhello w**worldhello**o worldhel**llo worldh**hello worl**ldhello wo**orldhello ** worldhell**lo worldhe**ello world**dhello wor**rldhello w**worldhello**o worldhel**llo worldh**hello worl**ldhello wo**orldhello ** worldhell**lo worldhe**ello world**dhello wor**rldhello w**worldhello**o worldhel**llo worldh**hello worl**ldhello wo**orldhello ** worldhell**lo worldhe**ello world**dhello wor**rldhello w**worldhello**o worldhel**llo worldh**hello worl**ldhello wo**orldhello ** worldhell**lo worldhe**ello world**dhello wor**rldhello w**worldhello**o worldhel**llo worldh**hello worl**ldhello wo**orldhello ** worldhell**lo worldhe**ello world**dhello wor**rldhello w**worldhello**o worldhel**llo worldh**hello worl**ldhello wo**orldhello ** worldhell**lo worldhe**ello world**dhello wor**rldhello w**worldhello**o worldhel**llo worldh**hello worl**ldhello wo**orldhello ** worldhell**lo worldhe**ello world**dhello wor**rldhello w**worldhello**o worldhel**llo worldh**hello worl**ldhello wo**orldhello ** worldhell**lo worldhe**ello world**dhello wor**rldhello w**worldhello**o worldhel**llo worldh**hello worl**ldhello wo**orldhello ** worldhell**lo worldhe**ello world**dhello wor**rldhello w**worldhello**o worldhel**llo worldh**hello worl**ldhello wo**orldhello ** worldhell**lo worldhe**ello world**dhello wor**rldhello w**worldhello**o worldhel**llo worldh**hello worl**ldhello wo**orldhello ** worldhell**lo worldhe**ello world**dhello wor**rldhello w**worldhello**o worldhel**llo worldh**hello worl**ldhello wo**orldhello ** worldhell**lo worldhe**ello world**dhello wor**rldhello w**worldhello**o worldhel**llo worldh**hello worl**ldhello wo**orldhello ** worldhell**lo worldhe**ello world**dhello wor**rldhello w**worldhello**o worldhel**llo worldh**hello worl**ldhello wo**orldhello ** worldhell**lo worldhe**ello world**dhello wor**rldhello w**worldhello**o worldhel**llo worldh**hello worl**ldhello wo**orldhello ** worldhell**lo worldhe**ello world**dhello wor**rldhello w**worldhello**o worldhel**llo worldh**hello worl**ldhello wo**orldhello ** worldhell**lo worldhe**ello world**dhello wor**rldhello w**worldhello**o worldhel**llo worldh**hello worl**ldhello wo**orldhello ** worldhell**lo worldhe**ello world**dhello wor**rldhello w**worldhello**o worldhel**llo worldh**hello worl**ldhello wo**orldhello ** worldhell**lo worldhe**ello world**dhello wor**rldhello w**worldhello**o worldhel**llo worldh**hello worl**ldhello wo**orldhello ** worldhell**lo worldhe**ello world**dhello wor**rldhello w**worldhello**o worldhel**llo worldh**hello worl**ldhello wo**orldhello ** worldhell**lo worldhe**ello world**dhello wor**rldhello w**worldhello**o worldhel**llo worldh**hello worl**ldhello wo**orldhello ** worldhell**lo worldhe**ello world**dhello wor**rldhello w**worldhello**o worldhel**llo worldh**hello worl**ldhello wo**orldhello ** worldhell**lo worldhe**ello world**dhello wor**rldhello w**worldhello**o worldhel**llo worldh**hello worl**ldhello wo**orldhello ** worldhell**lo worldhe**ello world**dhello wor**rldhello w**worldhello**o worldhel**llo worldh**hello worl**ldhello wo**orldhello ** worldhell**lo worldhe**ello world**dhello wor**rldhello w**worldhello**o worldhel**llo worldh**hello worl**ldhello wo**orldhello ** worldhell**lo worldhe**ello world**dhello wor**rldhello w**worldhello**o worldhel**llo worldh**hello worl**ldhello wo**orldhello ** worldhell**lo worldhe**ello world**dhello wor**rldhello w**worldhello**o worldhel**llo worldh**hello worl**ldhello wo**orldhello ** worldhell**lo worldhe**ello world**dhello wor**rldhello w**worldhello**o worldhel**llo worldh**hello worl**ldhello wo**orldhello ** worldhell**lo worldhe**ello world**dhello wor**rldhello w**worldhello**o worldhel**llo worldh**hello worl**ldhello wo**orldhello ** worldhell**lo worldhe**ello world**dhello wor**rldhello w**worldhello**o worldhel**llo worldh**hello worl**ldhello wo**orldhello ** worldhell**lo worldhe**ello world**dhello wor**rldhello w**worldhello**o worldhel**llo worldh**hello worl**ldhello wo**orldhello ** worldhell**lo worldhe**ello world**dhello wor**rldhello w**worldhello**o worldhel**llo worldh**hello worl**ldhello wo**orldhello ** worldhell**lo worldhe**ello world**dhello wor**rldhello w**worldhello**o worldhel**llo worldh**hello worl**ldhello wo**orldhello ** worldhell**lo worldhe**ello world**dhello wor**rldhello w**worldhello**o worldhel**llo worldh**hello worl**ldhello wo**orldhello ** worldhell**lo worldhe**ello world**dhello wor**rldhello w**worldhello**o worldhel**llo worldh**hello worl**ldhello wo**orldhello ** worldhell**lo worldhe**ello world**dhello wor**rldhello w**worldhello**o worldhel**llo worldh**hello worl**ldhello wo**orldhello ** worldhell**lo worldhe**ello world**dhello wor**rldhello w**worldhello**o worldhel**llo worldh**hello worl**ldhello wo**orldhello ** worldhell**lo worldhe**ello world**dhello wor**rldhello w**worldhello**o worldhel**llo worldh**hello worl**ldhello wo**orldhello ** worldhell**lo worldhe**ello world**dhello wor**rldhello w**worldhello**o worldhel**llo worldh**hello worl**ldhello wo**orldhello ** worldhell**lo worldhe**ello world**dhello wor**rldhello w**worldhello**o worldhel**llo worldh**hello worl**ldhello wo**orldhello ** worldhell**lo worldhe**ello world**dhello wor**rldhello w**worldhello**o worldhel**llo worldh**hello worl**ldhello wo**orldhello ** worldhell**lo worldhe**ello world**dhello wor**rldhello w**worldhello**o worldhel**llo worldh**hello worl**ldhello wo**orldhello ** worldhell**lo worldhe**ello world**dhello wor**rldhello w**worldhello**o worldhel**llo worldh**hello worl**ldhello wo**orldhello ** worldhell**lo worldhe**ello world**dhello wor**rldhello w**worldhello**o worldhel**llo worldh**hello worl**ldhello wo**orldhello ** worldhell**lo worldhe**ello world**dhello wor**rldhello w**worldhello**o worldhel**llo worldh**hello worl**ldhello wo**orldhello ** worldhell**lo worldhe**ello world**dhello wor**rldhello w**worldhello**o worldhel**llo worldh**hello worl**ldhello wo**orldhello ** worldhell**lo worldhe**ello world**dhello wor**rldhello w**worldhello**o worldhel**llo worldh**hello worl**ldhello wo**orldhello ** worldhell**lo worldhe**ello world**dhello wor**rldhello w**worldhello**o worldhel**llo worldh**hello worl**ldhello wo**orldhello ** worldhell**lo worldhe**ello world**dhello wor**rldhello w**worldhello**o worldhel**llo worldh**hello worl**ldhello wo**orldhello ** worldhell**lo worldhe**ello world**dhello wor**rldhello w**worldhello**o worldhel**llo worldh**hello worl**ldhello wo**orldhello ** worldhell**lo worldhe**ello world**dhello wor**rldhello w**worldhello**o worldhel**llo worldh**hello worl**ldhello wo**orldhello ** worldhell**lo worldhe**ello world**dhello wor**rldhello w**worldhello**o worldhel**llo worldh**hello worl**ldhello wo**orldhello ** worldhell**lo worldhe**ello world**dhello wor**rldhello w**worldhello**o worldhel**llo worldh**hello worl**ldhello wo**orldhello ** worldhell**lo worldhe**ello world**dhello wor**rldhello w**worldhello**o worldhel**llo worldh**hello worl**ldhello wo**orldhello ** worldhell**lo worldhe**ello world**dhello wor**rldhello w**worldhello**o worldhel**llo worldh**hello worl**ldhello wo**orldhello ** worldhell**lo worldhe**ello world**dhello wor**rldhello w**worldhello**o worldhel**llo worldh**hello worl**ldhello wo**orldhello ** worldhell**lo worldhe**ello world**dhello wor**rldhello w**worldhello**o worldhel**llo worldh**hello worl**ldhello wo**orldhello ** worldhell**lo worldhe**ello world**dhello wor**rldhello w**worldhello**o worldhel**llo worldh**hello worl**ldhello wo**orldhello ** worldhell**lo worldhe**ello world**dhello wor**rldhello w**worldhello**o worldhel**llo worldh**hello worl**ldhello wo**orldhello ** worldhell**lo worldhe**ello world**dhello wor**rldhello w**worldhello**o worldhel**llo worldh**hello worl**ldhello wo**orldhello ** worldhell**lo worldhe**ello world**dhello wor**rldhello w**worldhello**o worldhel**llo worldh**hello worl**ldhello wo**orldhello ** worldhell**lo worldhe**ello world**dhello wor**rldhello w**worldhello**o worldhel**llo worldh**hello worl**ldhello wo**orldhello ** worldhell**lo worldhe**ello world**dhello wor**rldhello w**worldhello**o worldhel**llo worldh**hello worl**ldhello wo**orldhello ** worldhell**lo worldhe**ello world**dhello wor**rldhello w**worldhello**o worldhel**llo worldh**hello worl**ldhello wo**orldhello ** worldhell**lo worldhe**ello world**dhello wor**rldhello w**worldhello**o worldhel**llo worldh**hello worl**ldhello wo**orldhello ** worldhell**lo worldhe**ello world**dhello wor**rldhello w**worldhello**o worldhel**llo worldh**hello worl**ldhello wo**orldhello ** worldhell**lo worldhe**ello world**dhello wor**rldhello w**worldhello**o worldhel**llo worldh**hello worl**ldhello wo**orldhello ** worldhell**lo worldhe**ello world**dhello wor**rldhello w**worldhello**o worldhel**llo worldh**hello worl**ldhello wo**orldhello ** worldhell**lo worldhe**ello world**dhello wor**rldhello w**worldhello**o worldhel**llo worldh**hello worl**ldhello wo**orldhello ** worldhell**lo worldhe**ello world**dhello wor**rldhello w**worldhello**o worldhel**llo worldh**hello worl**ldhello wo**orldhello ** worldhell**lo worldhe**ello world**dhello wor**rldhello w**worldhello**o worldhel**llo worldh**hello worl**ldhello wo**orldhello ** worldhell**lo worldhe**ello world**dhello wor**rldhello w**worldhello**o worldhel**llo worldh**hello worl**ldhello wo**orldhello ** worldhell**lo worldhe**ello world**dhello wor**rldhello w**worldhello**o worldhel**llo worldh**hello worl**ldhello wo**orldhello ** worldhell**lo worldhe**ello world**dhello wor**rldhello w**worldhello**o worldhel**llo worldh**hello worl**ldhello wo**orldhello ** worldhell**lo worldhe**ello world**dhello wor**rldhello w**worldhello**o worldhel**llo worldh**hello worl**ldhello wo**orldhello ** worldhell**lo worldhe**ello world**dhello wor**rldhello w**worldhello**o worldhel**llo worldh**hello worl**ldhello wo**orldhello ** worldhell**lo worldhe**ello world**dhello wor**rldhello w**worldhello**o worldhel**llo worldh**hello worl**ldhello wo**orldhello ** worldhell**lo worldhe**ello world**dhello wor**rldhello w**worldhello**o worldhel**llo worldh**hello worl**ldhello wo**orldhello ** worldhell**lo worldhe**ello world**"
     ]
    }
   ],
   "source": [
    "with open('big.txt','r') as f:\n",
    "    chunk_size=10\n",
    "    while len(f.read(chunk_size))>0:\n",
    "        print(f.read(chunk_size), end='**')\n",
    "        # f.read(chunk_size)\n",
    "        "
   ]
  },
  {
   "cell_type": "code",
   "execution_count": null,
   "metadata": {},
   "outputs": [],
   "source": []
  },
  {
   "cell_type": "code",
   "execution_count": 5,
   "metadata": {},
   "outputs": [
    {
     "name": "stdout",
     "output_type": "stream",
     "text": [
      "chandan du\n",
      "10\n",
      "chandan du\n",
      "10\n",
      "niya walo \n",
      "20\n"
     ]
    }
   ],
   "source": [
    "with open('simple.txt','r') as f:\n",
    "    print(f.read(10))\n",
    "    print(f.tell())\n",
    "    f.seek(0)\n",
    "    print(f.read(10))\n",
    "    print(f.tell())\n",
    "    print(f.read(10))\n",
    "    print(f.tell())\n",
    "    "
   ]
  },
  {
   "cell_type": "code",
   "execution_count": 6,
   "metadata": {},
   "outputs": [],
   "source": [
    "with open('simple.txt','w') as f:\n",
    "    f.write('Hello')\n",
    "    f.seek(0)\n",
    "    f.write('xa')\n"
   ]
  },
  {
   "cell_type": "code",
   "execution_count": 7,
   "metadata": {},
   "outputs": [
    {
     "ename": "UnicodeDecodeError",
     "evalue": "'utf-8' codec can't decode byte 0xff in position 0: invalid start byte",
     "output_type": "error",
     "traceback": [
      "\u001b[0;31m---------------------------------------------------------------------------\u001b[0m",
      "\u001b[0;31mUnicodeDecodeError\u001b[0m                        Traceback (most recent call last)",
      "Cell \u001b[0;32mIn[7], line 2\u001b[0m\n\u001b[1;32m      1\u001b[0m \u001b[39mwith\u001b[39;00m \u001b[39mopen\u001b[39m(\u001b[39m'\u001b[39m\u001b[39mimg.jpg\u001b[39m\u001b[39m'\u001b[39m,\u001b[39m'\u001b[39m\u001b[39mr\u001b[39m\u001b[39m'\u001b[39m) \u001b[39mas\u001b[39;00m f:\n\u001b[0;32m----> 2\u001b[0m     f\u001b[39m.\u001b[39;49mread()\n",
      "File \u001b[0;32m/usr/lib/python3.10/codecs.py:322\u001b[0m, in \u001b[0;36mBufferedIncrementalDecoder.decode\u001b[0;34m(self, input, final)\u001b[0m\n\u001b[1;32m    319\u001b[0m \u001b[39mdef\u001b[39;00m \u001b[39mdecode\u001b[39m(\u001b[39mself\u001b[39m, \u001b[39minput\u001b[39m, final\u001b[39m=\u001b[39m\u001b[39mFalse\u001b[39;00m):\n\u001b[1;32m    320\u001b[0m     \u001b[39m# decode input (taking the buffer into account)\u001b[39;00m\n\u001b[1;32m    321\u001b[0m     data \u001b[39m=\u001b[39m \u001b[39mself\u001b[39m\u001b[39m.\u001b[39mbuffer \u001b[39m+\u001b[39m \u001b[39minput\u001b[39m\n\u001b[0;32m--> 322\u001b[0m     (result, consumed) \u001b[39m=\u001b[39m \u001b[39mself\u001b[39;49m\u001b[39m.\u001b[39;49m_buffer_decode(data, \u001b[39mself\u001b[39;49m\u001b[39m.\u001b[39;49merrors, final)\n\u001b[1;32m    323\u001b[0m     \u001b[39m# keep undecoded input until the next call\u001b[39;00m\n\u001b[1;32m    324\u001b[0m     \u001b[39mself\u001b[39m\u001b[39m.\u001b[39mbuffer \u001b[39m=\u001b[39m data[consumed:]\n",
      "\u001b[0;31mUnicodeDecodeError\u001b[0m: 'utf-8' codec can't decode byte 0xff in position 0: invalid start byte"
     ]
    }
   ],
   "source": [
    "with open('img.jpg','r') as f:\n",
    "    f.read()"
   ]
  },
  {
   "cell_type": "code",
   "execution_count": null,
   "metadata": {},
   "outputs": [],
   "source": [
    "# working with binary file\n",
    "with open('img.jpg','rb') as f:\n",
    "    \n",
    "    with open('screenshot.jpg','wb') as wf:\n",
    "        wf.write(f.read())\n",
    "        \n",
    " "
   ]
  },
  {
   "cell_type": "code",
   "execution_count": null,
   "metadata": {},
   "outputs": [],
   "source": [
    "with open('simple.txt','w') as f:\n",
    "    f.write('5')\n",
    "    \n"
   ]
  },
  {
   "cell_type": "code",
   "execution_count": null,
   "metadata": {},
   "outputs": [
    {
     "name": "stdout",
     "output_type": "stream",
     "text": [
      "10\n"
     ]
    }
   ],
   "source": [
    "with open('simple.txt','r') as f:\n",
    "    print(int(f.read())+5)"
   ]
  },
  {
   "cell_type": "code",
   "execution_count": null,
   "metadata": {},
   "outputs": [],
   "source": [
    "d={\n",
    "    'name':'chandan',\n",
    "    'age':33,\n",
    "    'gender':'male'\n",
    "}\n",
    "with open('simple.txt','w') as f:\n",
    "    f.write(str(d))"
   ]
  },
  {
   "cell_type": "code",
   "execution_count": null,
   "metadata": {},
   "outputs": [
    {
     "name": "stdout",
     "output_type": "stream",
     "text": [
      "{'name': 'chandan', 'age': 33, 'gender': 'male'}\n"
     ]
    }
   ],
   "source": [
    "with open('simple.txt','r') as f:\n",
    "    print(f.read())"
   ]
  },
  {
   "cell_type": "code",
   "execution_count": 8,
   "metadata": {},
   "outputs": [],
   "source": [
    "import json\n",
    "l=[1,2,3,4,5]\n",
    "with open('demo.json','w') as f:\n",
    "    json.dump(l,f)"
   ]
  },
  {
   "cell_type": "code",
   "execution_count": 10,
   "metadata": {},
   "outputs": [],
   "source": [
    "d={\n",
    "    'name':'chandan',\n",
    "    'age':33,\n",
    "    'gender':'male'\n",
    "}\n",
    "with open('demo.json','w') as f:\n",
    "    json.dump(d,f,indent=4)"
   ]
  },
  {
   "cell_type": "code",
   "execution_count": 12,
   "metadata": {},
   "outputs": [
    {
     "name": "stdout",
     "output_type": "stream",
     "text": [
      "{'name': 'chandan', 'age': 33, 'gender': 'male'}\n"
     ]
    }
   ],
   "source": [
    "with open('demo.json','r') as f:\n",
    "   print(json.load(f))"
   ]
  },
  {
   "cell_type": "code",
   "execution_count": 13,
   "metadata": {},
   "outputs": [],
   "source": [
    "import json\n",
    "t=(1,2,3,4,5)\n",
    "with open('demo.json','w') as f:\n",
    "    json.dump(t,f)"
   ]
  },
  {
   "cell_type": "code",
   "execution_count": 14,
   "metadata": {},
   "outputs": [],
   "source": [
    "d={\n",
    "    'student':'chandan',\n",
    "    'marks':[23,13,44,55,66,77]\n",
    "    \n",
    "}\n",
    "with open('demo.json','w') as f:\n",
    "    json.dump(d,f)"
   ]
  },
  {
   "cell_type": "code",
   "execution_count": 15,
   "metadata": {},
   "outputs": [],
   "source": [
    "class Person:\n",
    "    def __init__(self,fname,lname,age,gender) -> None:\n",
    "        self.fname=fname\n",
    "        self.lname=lname\n",
    "        self.age=age\n",
    "        self.gender=gender\n",
    "        "
   ]
  },
  {
   "cell_type": "code",
   "execution_count": 16,
   "metadata": {},
   "outputs": [],
   "source": [
    "person=Person('Chandan','kumar',22,'male')"
   ]
  },
  {
   "cell_type": "code",
   "execution_count": 18,
   "metadata": {},
   "outputs": [],
   "source": [
    "import json\n",
    "def show_object(person):\n",
    "    if isinstance(person,Person):\n",
    "        return \"{} {} age  -> {} gender-> {}\".format(person.fname,person.lname,person.age,person.gender)\n",
    "with open('demo.json','w') as f:\n",
    "    json.dump(person,f,default=show_object)"
   ]
  },
  {
   "cell_type": "code",
   "execution_count": 19,
   "metadata": {},
   "outputs": [],
   "source": [
    "import json\n",
    "def show_object(person):\n",
    "    if isinstance(person,Person):\n",
    "        return  {'name':person.fname+\"\"+person.lname,'age':person.age,'gender':person.gender}\n",
    "with open('demo.json','w') as f:\n",
    "    json.dump(person,f,default=show_object)"
   ]
  },
  {
   "cell_type": "code",
   "execution_count": 21,
   "metadata": {},
   "outputs": [
    {
     "name": "stdout",
     "output_type": "stream",
     "text": [
      "{'name': 'Chandankumar', 'age': 22, 'gender': 'male'}\n"
     ]
    }
   ],
   "source": [
    "with open('demo.json','r') as f:\n",
    "  print(json.load(f))"
   ]
  },
  {
   "cell_type": "code",
   "execution_count": 22,
   "metadata": {},
   "outputs": [],
   "source": [
    "class Person:\n",
    "    def __init__(self,name,age):\n",
    "        self.name=name\n",
    "        self.age=age\n",
    "    def display_info(self):\n",
    "        print('hi my name is',self.name,'and i am',self.age,'year old')"
   ]
  },
  {
   "cell_type": "code",
   "execution_count": 24,
   "metadata": {},
   "outputs": [],
   "source": [
    "p=Person('chandan',22)\n"
   ]
  },
  {
   "cell_type": "code",
   "execution_count": 26,
   "metadata": {},
   "outputs": [],
   "source": [
    "import pickle\n",
    "with open('person.pkl','wb') as f:\n",
    "    pickle.dump(p,f)"
   ]
  },
  {
   "cell_type": "code",
   "execution_count": 27,
   "metadata": {},
   "outputs": [
    {
     "name": "stdout",
     "output_type": "stream",
     "text": [
      "hi my name is chandan and i am 22 year old\n"
     ]
    }
   ],
   "source": [
    "with open('person.pkl','rb') as f:\n",
    "    p=pickle.load(f)\n",
    "    p.display_info()\n",
    "    "
   ]
  },
  {
   "cell_type": "code",
   "execution_count": null,
   "metadata": {},
   "outputs": [],
   "source": []
  }
 ],
 "metadata": {
  "kernelspec": {
   "display_name": "Python 3",
   "language": "python",
   "name": "python3"
  },
  "language_info": {
   "codemirror_mode": {
    "name": "ipython",
    "version": 3
   },
   "file_extension": ".py",
   "mimetype": "text/x-python",
   "name": "python",
   "nbconvert_exporter": "python",
   "pygments_lexer": "ipython3",
   "version": "3.10.6 (main, Nov 14 2022, 16:10:14) [GCC 11.3.0]"
  },
  "orig_nbformat": 4,
  "vscode": {
   "interpreter": {
    "hash": "916dbcbb3f70747c44a77c7bcd40155683ae19c65e1c03b4aa3499c5328201f1"
   }
  }
 },
 "nbformat": 4,
 "nbformat_minor": 2
}
